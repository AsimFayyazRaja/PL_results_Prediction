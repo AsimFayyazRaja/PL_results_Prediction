{
 "cells": [
  {
   "cell_type": "code",
   "execution_count": 1,
   "metadata": {},
   "outputs": [],
   "source": [
    "import pickle\n",
    "import numpy as np\n",
    "\n",
    "\n",
    "#loading features and labels\n",
    "with open(\"features_py2.pkl\", \"rb\") as input_file:\n",
    "    X = pickle.load(input_file)\n",
    "\n",
    "with open(\"labels_py2.pkl\", \"rb\") as input_file:\n",
    "    y = pickle.load(input_file)\n",
    "\n",
    "#converting labels to discrete labels from one-hot form\n",
    "new_y=[]\n",
    "for val in y:\n",
    "    new_y.append(np.argmax(val))\n",
    "y=np.array(new_y)"
   ]
  },
  {
   "cell_type": "code",
   "execution_count": 2,
   "metadata": {},
   "outputs": [
    {
     "name": "stdout",
     "output_type": "stream",
     "text": [
      "(6618, 14)\n",
      "(6618,)\n"
     ]
    }
   ],
   "source": [
    "import numpy as np\n",
    "\n",
    "print(X.shape)\n",
    "print(y.shape)\n",
    "from sklearn.model_selection import train_test_split\n",
    "import xgboost as xgb\n",
    "\n",
    "X=np.reshape(X,(len(X),-1))\n",
    "#divide data into training and validation\n",
    "X_train, X_test, y_train, y_test = train_test_split(X, y, test_size=0.10, random_state=42)\n"
   ]
  },
  {
   "cell_type": "code",
   "execution_count": 3,
   "metadata": {},
   "outputs": [
    {
     "name": "stdout",
     "output_type": "stream",
     "text": [
      "[0 1 2]\n"
     ]
    }
   ],
   "source": [
    "print(np.unique(y))"
   ]
  },
  {
   "cell_type": "code",
   "execution_count": 4,
   "metadata": {},
   "outputs": [
    {
     "name": "stdout",
     "output_type": "stream",
     "text": [
      "0.6661631419939577\n"
     ]
    }
   ],
   "source": [
    "#use XGBoost model and get accuracy\n",
    "xgb_model = xgb.XGBClassifier(objective=\"multi:softmax\", random_state=42)\n",
    "xgb_model.fit(X_train, y_train)\n",
    "\n",
    "y_pred = xgb_model.predict(X_test)\n",
    "from sklearn.metrics import accuracy_score\n",
    "\n",
    "print(accuracy_score(y_test,y_pred))   # calculate accuracy"
   ]
  },
  {
   "cell_type": "code",
   "execution_count": 5,
   "metadata": {},
   "outputs": [
    {
     "name": "stdout",
     "output_type": "stream",
     "text": [
      "              precision    recall  f1-score   support\n",
      "\n",
      "   Home Wins       0.71      0.84      0.77       303\n",
      "        Draw       0.45      0.32      0.38       168\n",
      "   Away Wins       0.71      0.69      0.70       191\n",
      "\n",
      "   micro avg       0.67      0.67      0.67       662\n",
      "   macro avg       0.63      0.62      0.62       662\n",
      "weighted avg       0.65      0.67      0.65       662\n",
      "\n"
     ]
    }
   ],
   "source": [
    "# make classification report\n",
    "from sklearn.metrics import classification_report\n",
    "\n",
    "target_names = ['Home Wins', 'Draw', 'Away Wins']\n",
    "print(classification_report(y_test, y_pred, target_names=target_names))"
   ]
  },
  {
   "cell_type": "code",
   "execution_count": 6,
   "metadata": {},
   "outputs": [],
   "source": [
    "p=xgb_model.predict_proba(X_test)"
   ]
  },
  {
   "cell_type": "code",
   "execution_count": 7,
   "metadata": {},
   "outputs": [
    {
     "data": {
      "text/plain": [
       "array([[0.01589892, 0.04630557, 0.9377955 ],\n",
       "       [0.69053656, 0.18430436, 0.1251591 ],\n",
       "       [0.9551177 , 0.03914491, 0.00573742]], dtype=float32)"
      ]
     },
     "execution_count": 7,
     "metadata": {},
     "output_type": "execute_result"
    }
   ],
   "source": [
    "p[:3]"
   ]
  },
  {
   "cell_type": "markdown",
   "metadata": {},
   "source": [
    "## Using XGBoost on SMOTE oversampled features"
   ]
  },
  {
   "cell_type": "code",
   "execution_count": 8,
   "metadata": {},
   "outputs": [],
   "source": [
    "import pickle\n",
    "import numpy as np\n",
    "\n",
    "\n",
    "#loading features and labels for SMOTE after oversampling\n",
    "with open(\"over_features_py2.pkl\", \"rb\") as input_file:\n",
    "    X = pickle.load(input_file)\n",
    "\n",
    "with open(\"over_labels_py2.pkl\", \"rb\") as input_file:\n",
    "    y = pickle.load(input_file)\n"
   ]
  },
  {
   "cell_type": "code",
   "execution_count": 9,
   "metadata": {},
   "outputs": [
    {
     "name": "stdout",
     "output_type": "stream",
     "text": [
      "(9255, 14)\n",
      "(9255,)\n"
     ]
    }
   ],
   "source": [
    "import numpy as np\n",
    "\n",
    "print(X.shape)\n",
    "print(y.shape)\n",
    "from sklearn.model_selection import train_test_split\n",
    "import xgboost as xgb\n",
    "\n",
    "X=np.reshape(X,(len(X),-1))\n",
    "#divide data into training and validation\n",
    "X_train, X_test, y_train, y_test = train_test_split(X, y, test_size=0.10, random_state=42)\n"
   ]
  },
  {
   "cell_type": "code",
   "execution_count": 10,
   "metadata": {},
   "outputs": [
    {
     "name": "stdout",
     "output_type": "stream",
     "text": [
      "0.7138228941684666\n"
     ]
    }
   ],
   "source": [
    "#use XGBoost model and get accuracy\n",
    "xgb_model = xgb.XGBClassifier(objective=\"multi:softmax\", random_state=42)\n",
    "xgb_model.fit(X_train, y_train)\n",
    "\n",
    "y_pred = xgb_model.predict(X_test)\n",
    "from sklearn.metrics import accuracy_score\n",
    "\n",
    "print(accuracy_score(y_test,y_pred))"
   ]
  },
  {
   "cell_type": "code",
   "execution_count": 11,
   "metadata": {},
   "outputs": [
    {
     "name": "stdout",
     "output_type": "stream",
     "text": [
      "              precision    recall  f1-score   support\n",
      "\n",
      "   Home Wins       0.79      0.78      0.78       336\n",
      "        Draw       0.58      0.65      0.62       272\n",
      "   Away Wins       0.77      0.70      0.73       318\n",
      "\n",
      "   micro avg       0.71      0.71      0.71       926\n",
      "   macro avg       0.71      0.71      0.71       926\n",
      "weighted avg       0.72      0.71      0.72       926\n",
      "\n"
     ]
    }
   ],
   "source": [
    "# make classification report\n",
    "from sklearn.metrics import classification_report\n",
    "\n",
    "target_names = ['Home Wins', 'Draw', 'Away Wins']\n",
    "print(classification_report(y_test, y_pred, target_names=target_names))"
   ]
  },
  {
   "cell_type": "code",
   "execution_count": null,
   "metadata": {},
   "outputs": [],
   "source": []
  }
 ],
 "metadata": {
  "kernelspec": {
   "display_name": "Python 2",
   "language": "python",
   "name": "python2"
  },
  "language_info": {
   "codemirror_mode": {
    "name": "ipython",
    "version": 2
   },
   "file_extension": ".py",
   "mimetype": "text/x-python",
   "name": "python",
   "nbconvert_exporter": "python",
   "pygments_lexer": "ipython2",
   "version": "2.7.17"
  }
 },
 "nbformat": 4,
 "nbformat_minor": 2
}
