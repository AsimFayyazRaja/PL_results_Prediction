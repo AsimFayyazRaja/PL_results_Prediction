{
 "cells": [
  {
   "cell_type": "code",
   "execution_count": 1,
   "metadata": {},
   "outputs": [],
   "source": [
    "import pickle\n",
    "import numpy as np\n",
    "import pandas as pd"
   ]
  },
  {
   "cell_type": "code",
   "execution_count": 77,
   "metadata": {},
   "outputs": [],
   "source": [
    "home=\"Liverpool\"\n",
    "away=\"Chelsea\""
   ]
  },
  {
   "cell_type": "code",
   "execution_count": 78,
   "metadata": {},
   "outputs": [],
   "source": [
    "with open(\"RandomForest.pkl\", \"rb\") as input_file:\n",
    "    clf = pickle.load(input_file)\n",
    "\n",
    "with open(\"le_team.pkl\", \"rb\") as input_file:\n",
    "    le_team = pickle.load(input_file)"
   ]
  },
  {
   "cell_type": "code",
   "execution_count": 79,
   "metadata": {},
   "outputs": [
    {
     "data": {
      "text/plain": [
       "12"
      ]
     },
     "execution_count": 79,
     "metadata": {},
     "output_type": "execute_result"
    }
   ],
   "source": [
    "ht=le_team.transform([home])[0]\n",
    "at=le_team.transform([away])[0]\n",
    "at"
   ]
  },
  {
   "cell_type": "code",
   "execution_count": 80,
   "metadata": {},
   "outputs": [],
   "source": [
    "df=pd.read_csv('preprocessed_data.csv')"
   ]
  },
  {
   "cell_type": "code",
   "execution_count": 81,
   "metadata": {},
   "outputs": [
    {
     "name": "stdout",
     "output_type": "stream",
     "text": [
      "(16, 16)\n"
     ]
    },
    {
     "data": {
      "text/html": [
       "<div>\n",
       "<style scoped>\n",
       "    .dataframe tbody tr th:only-of-type {\n",
       "        vertical-align: middle;\n",
       "    }\n",
       "\n",
       "    .dataframe tbody tr th {\n",
       "        vertical-align: top;\n",
       "    }\n",
       "\n",
       "    .dataframe thead th {\n",
       "        text-align: right;\n",
       "    }\n",
       "</style>\n",
       "<table border=\"1\" class=\"dataframe\">\n",
       "  <thead>\n",
       "    <tr style=\"text-align: right;\">\n",
       "      <th></th>\n",
       "      <th>Unnamed: 0</th>\n",
       "      <th>Date</th>\n",
       "      <th>HomeTeam</th>\n",
       "      <th>AwayTeam</th>\n",
       "      <th>HS</th>\n",
       "      <th>AS</th>\n",
       "      <th>HST</th>\n",
       "      <th>AST</th>\n",
       "      <th>HC</th>\n",
       "      <th>AC</th>\n",
       "      <th>HTR</th>\n",
       "      <th>WHH</th>\n",
       "      <th>WHD</th>\n",
       "      <th>WHA</th>\n",
       "      <th>diff_shots</th>\n",
       "      <th>diff_on_target</th>\n",
       "    </tr>\n",
       "  </thead>\n",
       "  <tbody>\n",
       "    <tr>\n",
       "      <th>101</th>\n",
       "      <td>6094</td>\n",
       "      <td>2009-01-02</td>\n",
       "      <td>23</td>\n",
       "      <td>12</td>\n",
       "      <td>21.0</td>\n",
       "      <td>4.0</td>\n",
       "      <td>15.0</td>\n",
       "      <td>1.0</td>\n",
       "      <td>12.0</td>\n",
       "      <td>1.0</td>\n",
       "      <td>1</td>\n",
       "      <td>2.40</td>\n",
       "      <td>3.1</td>\n",
       "      <td>3.10</td>\n",
       "      <td>17.0</td>\n",
       "      <td>14.0</td>\n",
       "    </tr>\n",
       "    <tr>\n",
       "      <th>503</th>\n",
       "      <td>6602</td>\n",
       "      <td>2010-02-05</td>\n",
       "      <td>23</td>\n",
       "      <td>12</td>\n",
       "      <td>7.0</td>\n",
       "      <td>15.0</td>\n",
       "      <td>2.0</td>\n",
       "      <td>11.0</td>\n",
       "      <td>9.0</td>\n",
       "      <td>5.0</td>\n",
       "      <td>0</td>\n",
       "      <td>4.00</td>\n",
       "      <td>3.6</td>\n",
       "      <td>1.85</td>\n",
       "      <td>-8.0</td>\n",
       "      <td>-9.0</td>\n",
       "    </tr>\n",
       "    <tr>\n",
       "      <th>523</th>\n",
       "      <td>4899</td>\n",
       "      <td>2005-02-10</td>\n",
       "      <td>23</td>\n",
       "      <td>12</td>\n",
       "      <td>11.0</td>\n",
       "      <td>7.0</td>\n",
       "      <td>5.0</td>\n",
       "      <td>5.0</td>\n",
       "      <td>4.0</td>\n",
       "      <td>2.0</td>\n",
       "      <td>0</td>\n",
       "      <td>3.10</td>\n",
       "      <td>3.0</td>\n",
       "      <td>2.15</td>\n",
       "      <td>4.0</td>\n",
       "      <td>0.0</td>\n",
       "    </tr>\n",
       "    <tr>\n",
       "      <th>1337</th>\n",
       "      <td>4544</td>\n",
       "      <td>2002-06-10</td>\n",
       "      <td>23</td>\n",
       "      <td>12</td>\n",
       "      <td>12.0</td>\n",
       "      <td>8.0</td>\n",
       "      <td>8.0</td>\n",
       "      <td>0.0</td>\n",
       "      <td>3.0</td>\n",
       "      <td>1.0</td>\n",
       "      <td>1</td>\n",
       "      <td>1.83</td>\n",
       "      <td>3.2</td>\n",
       "      <td>3.75</td>\n",
       "      <td>4.0</td>\n",
       "      <td>8.0</td>\n",
       "    </tr>\n",
       "    <tr>\n",
       "      <th>1505</th>\n",
       "      <td>860</td>\n",
       "      <td>2010-07-11</td>\n",
       "      <td>23</td>\n",
       "      <td>12</td>\n",
       "      <td>9.0</td>\n",
       "      <td>11.0</td>\n",
       "      <td>7.0</td>\n",
       "      <td>7.0</td>\n",
       "      <td>2.0</td>\n",
       "      <td>5.0</td>\n",
       "      <td>2</td>\n",
       "      <td>3.75</td>\n",
       "      <td>3.1</td>\n",
       "      <td>2.10</td>\n",
       "      <td>-2.0</td>\n",
       "      <td>0.0</td>\n",
       "    </tr>\n",
       "  </tbody>\n",
       "</table>\n",
       "</div>"
      ],
      "text/plain": [
       "      Unnamed: 0        Date  HomeTeam  AwayTeam    HS    AS   HST   AST  \\\n",
       "101         6094  2009-01-02        23        12  21.0   4.0  15.0   1.0   \n",
       "503         6602  2010-02-05        23        12   7.0  15.0   2.0  11.0   \n",
       "523         4899  2005-02-10        23        12  11.0   7.0   5.0   5.0   \n",
       "1337        4544  2002-06-10        23        12  12.0   8.0   8.0   0.0   \n",
       "1505         860  2010-07-11        23        12   9.0  11.0   7.0   7.0   \n",
       "\n",
       "        HC   AC  HTR   WHH  WHD   WHA  diff_shots  diff_on_target  \n",
       "101   12.0  1.0    1  2.40  3.1  3.10        17.0            14.0  \n",
       "503    9.0  5.0    0  4.00  3.6  1.85        -8.0            -9.0  \n",
       "523    4.0  2.0    0  3.10  3.0  2.15         4.0             0.0  \n",
       "1337   3.0  1.0    1  1.83  3.2  3.75         4.0             8.0  \n",
       "1505   2.0  5.0    2  3.75  3.1  2.10        -2.0             0.0  "
      ]
     },
     "execution_count": 81,
     "metadata": {},
     "output_type": "execute_result"
    }
   ],
   "source": [
    "vector=df.loc[(df['HomeTeam']==ht) & (df['AwayTeam']==at)]\n",
    "vector=vector.drop('FTR',axis=1)\n",
    "print(vector.shape)\n",
    "vector.head()"
   ]
  },
  {
   "cell_type": "code",
   "execution_count": 82,
   "metadata": {},
   "outputs": [
    {
     "name": "stdout",
     "output_type": "stream",
     "text": [
      "Vecotr:  [23, 12, 22.29922018086065, 13.184309562630105, 10.878287956398978, 7.133509561339238, 9.759601202601324, 6.168110065990377, 1.5386843774138907, 3.1594612662790627, 3.5510155231863405, 4.319814279492853, 9.114910618230546, 3.7447783950597398]\n"
     ]
    }
   ],
   "source": [
    "mean_cols=['HS','AS','HST','AST','HC','AC','HTR','WHH','WHD','WHA']\n",
    "v1=[]\n",
    "v1.append(ht)\n",
    "v1.append(at)\n",
    "for col in mean_cols:\n",
    "    v1.append(np.mean(vector[col].values)+np.std(vector[col].values))\n",
    "v1.append(v1[2]-v1[3])\n",
    "v1.append(v1[4]-v1[5])\n",
    "print(\"Vecotr: \", v1)"
   ]
  },
  {
   "cell_type": "code",
   "execution_count": 83,
   "metadata": {},
   "outputs": [
    {
     "name": "stdout",
     "output_type": "stream",
     "text": [
      "[[0.25  0.465 0.285]]\n"
     ]
    }
   ],
   "source": [
    "print(clf.predict_proba(np.array(v1).reshape(1,-1)))"
   ]
  },
  {
   "cell_type": "code",
   "execution_count": null,
   "metadata": {},
   "outputs": [],
   "source": []
  }
 ],
 "metadata": {
  "kernelspec": {
   "display_name": "Python 3",
   "language": "python",
   "name": "python3"
  },
  "language_info": {
   "codemirror_mode": {
    "name": "ipython",
    "version": 3
   },
   "file_extension": ".py",
   "mimetype": "text/x-python",
   "name": "python",
   "nbconvert_exporter": "python",
   "pygments_lexer": "ipython3",
   "version": "3.7.6"
  }
 },
 "nbformat": 4,
 "nbformat_minor": 2
}
