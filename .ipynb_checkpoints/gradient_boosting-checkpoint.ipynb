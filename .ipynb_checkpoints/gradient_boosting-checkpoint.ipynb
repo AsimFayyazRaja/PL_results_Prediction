{
 "cells": [
  {
   "cell_type": "code",
   "execution_count": 1,
   "metadata": {},
   "outputs": [],
   "source": [
    "import pickle\n",
    "import numpy as np\n",
    "\n",
    "\n",
    "#loading features and labels\n",
    "with open(\"features.pkl\", \"rb\") as input_file:\n",
    "    X = pickle.load(input_file)\n",
    "\n",
    "with open(\"labels.pkl\", \"rb\") as input_file:\n",
    "    y = pickle.load(input_file)\n",
    "\n",
    "new_y=[]\n",
    "for val in y:\n",
    "    new_y.append(np.argmax(val))\n",
    "y=np.array(new_y)"
   ]
  },
  {
   "cell_type": "code",
   "execution_count": 2,
   "metadata": {},
   "outputs": [
    {
     "name": "stdout",
     "output_type": "stream",
     "text": [
      "(6618, 14)\n",
      "(6618,)\n",
      "0.6344410876132931\n"
     ]
    }
   ],
   "source": [
    "import numpy as np\n",
    "\n",
    "print(X.shape)\n",
    "print(y.shape)\n",
    "from sklearn.model_selection import train_test_split\n",
    "\n",
    "\n",
    "from sklearn.ensemble import GradientBoostingClassifier\n",
    "X=np.reshape(X,(len(X),-1))   # converting data to 2D\n",
    "\n",
    "# split the dataset\n",
    "X_train, X_test, y_train, y_test = train_test_split(X, y, test_size=0.10, random_state=42)\n",
    "\n",
    "# gradient boosting classifier\n",
    "clf = GradientBoostingClassifier(n_estimators=50, random_state=42)\n",
    "\n",
    "clf.fit(X_train,y_train)   # fitting on training data\n",
    "print(clf.score(X_test,y_test))    # checking score on testing data"
   ]
  },
  {
   "cell_type": "code",
   "execution_count": 3,
   "metadata": {},
   "outputs": [],
   "source": [
    "preds=clf.predict(X_test)   # predicting on test set"
   ]
  },
  {
   "cell_type": "code",
   "execution_count": 4,
   "metadata": {},
   "outputs": [
    {
     "name": "stdout",
     "output_type": "stream",
     "text": [
      "              precision    recall  f1-score   support\n",
      "\n",
      "   Home Wins       0.70      0.76      0.73       304\n",
      "        Draw       0.44      0.34      0.38       179\n",
      "   Away Wins       0.65      0.71      0.68       179\n",
      "\n",
      "    accuracy                           0.63       662\n",
      "   macro avg       0.60      0.60      0.60       662\n",
      "weighted avg       0.62      0.63      0.62       662\n",
      "\n"
     ]
    }
   ],
   "source": [
    "# make classification report\n",
    "from sklearn.metrics import classification_report\n",
    "\n",
    "target_names = ['Home Wins', 'Draw', 'Away Wins']\n",
    "print(classification_report(y_test, preds, target_names=target_names))"
   ]
  },
  {
   "cell_type": "markdown",
   "metadata": {},
   "source": [
    "## Results after oversampling using SMOTE"
   ]
  },
  {
   "cell_type": "code",
   "execution_count": 5,
   "metadata": {},
   "outputs": [
    {
     "name": "stderr",
     "output_type": "stream",
     "text": [
      "Using TensorFlow backend.\n"
     ]
    }
   ],
   "source": [
    "# oversampling the data because of less data points in \"DRAW\"\n",
    "from imblearn.over_sampling import SMOTE\n",
    "sm = SMOTE(random_state=42)\n",
    "\n",
    "X, y = sm.fit_resample(X, y)\n",
    "\n",
    "# save with python2 compatibility as well for xgboost\n",
    "with open('over_features_py2.pkl','wb') as f:\n",
    "    pickle.dump(X, f, protocol=2)\n",
    "\n",
    "with open('over_labels_py2.pkl','wb') as f:\n",
    "    pickle.dump(y, f, protocol=2)\n"
   ]
  },
  {
   "cell_type": "code",
   "execution_count": 6,
   "metadata": {},
   "outputs": [
    {
     "name": "stdout",
     "output_type": "stream",
     "text": [
      "(9255, 14)\n",
      "(9255,)\n",
      "0.6997840172786177\n"
     ]
    }
   ],
   "source": [
    "import numpy as np\n",
    "\n",
    "print(X.shape)\n",
    "print(y.shape)\n",
    "from sklearn.model_selection import train_test_split\n",
    "\n",
    "\n",
    "from sklearn.ensemble import GradientBoostingClassifier\n",
    "X=np.reshape(X,(len(X),-1))   # converting data to 2D\n",
    "\n",
    "# split the dataset\n",
    "X_train, X_test, y_train, y_test = train_test_split(X, y, test_size=0.10, random_state=42)\n",
    "\n",
    "# gradient boosting classifier\n",
    "clf = GradientBoostingClassifier(n_estimators=50, random_state=42)\n",
    "\n",
    "clf.fit(X_train,y_train)   # fitting on training data\n",
    "print(clf.score(X_test,y_test))    # checking score on testing data"
   ]
  },
  {
   "cell_type": "code",
   "execution_count": 7,
   "metadata": {},
   "outputs": [],
   "source": [
    "preds=clf.predict(X_test)"
   ]
  },
  {
   "cell_type": "code",
   "execution_count": 8,
   "metadata": {},
   "outputs": [
    {
     "name": "stdout",
     "output_type": "stream",
     "text": [
      "              precision    recall  f1-score   support\n",
      "\n",
      "   Home Wins       0.79      0.74      0.77       325\n",
      "        Draw       0.56      0.63      0.59       289\n",
      "   Away Wins       0.76      0.72      0.74       312\n",
      "\n",
      "    accuracy                           0.70       926\n",
      "   macro avg       0.70      0.70      0.70       926\n",
      "weighted avg       0.71      0.70      0.70       926\n",
      "\n"
     ]
    }
   ],
   "source": [
    "#classification report after oversampling\n",
    "from sklearn.metrics import classification_report\n",
    "\n",
    "target_names = ['Home Wins', 'Draw', 'Away Wins']\n",
    "print(classification_report(y_test, preds, target_names=target_names))"
   ]
  },
  {
   "cell_type": "code",
   "execution_count": 9,
   "metadata": {},
   "outputs": [
    {
     "data": {
      "text/plain": [
       "array([[0.2032626 , 0.4482117 , 0.3485257 ],\n",
       "       [0.36427475, 0.54166319, 0.09406206],\n",
       "       [0.03003818, 0.06393529, 0.90602654]])"
      ]
     },
     "execution_count": 9,
     "metadata": {},
     "output_type": "execute_result"
    }
   ],
   "source": [
    "pred_probs=clf.predict_proba(X_test)   # probability of \"Home Win\", \"Draw\" and \"Away Win\" on test data\n",
    "pred_probs[:3]"
   ]
  },
  {
   "cell_type": "code",
   "execution_count": 10,
   "metadata": {
    "scrolled": false
   },
   "outputs": [
    {
     "data": {
      "text/plain": [
       "(926, 3)"
      ]
     },
     "execution_count": 10,
     "metadata": {},
     "output_type": "execute_result"
    }
   ],
   "source": [
    "pred_probs=np.array(pred_probs)\n",
    "pred_probs.shape"
   ]
  },
  {
   "cell_type": "code",
   "execution_count": null,
   "metadata": {},
   "outputs": [],
   "source": []
  },
  {
   "cell_type": "code",
   "execution_count": null,
   "metadata": {},
   "outputs": [],
   "source": []
  }
 ],
 "metadata": {
  "kernelspec": {
   "display_name": "Python 3",
   "language": "python",
   "name": "python3"
  },
  "language_info": {
   "codemirror_mode": {
    "name": "ipython",
    "version": 3
   },
   "file_extension": ".py",
   "mimetype": "text/x-python",
   "name": "python",
   "nbconvert_exporter": "python",
   "pygments_lexer": "ipython3",
   "version": "3.7.6"
  }
 },
 "nbformat": 4,
 "nbformat_minor": 2
}
